{
 "cells": [
  {
   "cell_type": "code",
   "execution_count": 2,
   "metadata": {},
   "outputs": [
    {
     "data": {
      "text/plain": [
       "'\\nPerson - Gustave Eiffel\\nLocation - Eiffel Tower\\nTime - 1887-1889\\nQuantity - 6.91 million\\nHeight - 324 metres\\nHeight - 1,063 ft\\n'"
      ]
     },
     "execution_count": 2,
     "metadata": {},
     "output_type": "execute_result"
    }
   ],
   "source": [
    "sentence = \"The Eiffel Tower was built from 1887-1889. It was named after the engineer Gustave Eiffel, whose company designed and built the tower. The Eiffel Tower is the most-visited paid monument in the world; 6.91 million people ascended it in 2015. The tower is 324 metres (1,063 ft) tall, about the same height as an 81-storey building. It was the tallest\"\n",
    "\n",
    "'''\n",
    "Person - Gustave Eiffel\n",
    "Location - Eiffel Tower\n",
    "Time - 1887-1889\n",
    "Quantity - 6.91 million\n",
    "Height - 324 metres\n",
    "Height - 1,063 ft\n",
    "'''"
   ]
  },
  {
   "cell_type": "code",
   "execution_count": 3,
   "metadata": {},
   "outputs": [],
   "source": [
    "import nltk\n",
    "words = nltk.word_tokenize(sentence)"
   ]
  },
  {
   "cell_type": "code",
   "execution_count": 4,
   "metadata": {},
   "outputs": [
    {
     "name": "stdout",
     "output_type": "stream",
     "text": [
      "['The', 'Eiffel', 'Tower', 'was', 'built', 'from', '1887-1889', '.', 'It', 'was', 'named', 'after', 'the', 'engineer', 'Gustave', 'Eiffel', ',', 'whose', 'company', 'designed', 'and', 'built', 'the', 'tower', '.', 'The', 'Eiffel', 'Tower', 'is', 'the', 'most-visited', 'paid', 'monument', 'in', 'the', 'world', ';', '6.91', 'million', 'people', 'ascended', 'it', 'in', '2015', '.', 'The', 'tower', 'is', '324', 'metres', '(', '1,063', 'ft', ')', 'tall', ',', 'about', 'the', 'same', 'height', 'as', 'an', '81-storey', 'building', '.', 'It', 'was', 'the', 'tallest']\n"
     ]
    }
   ],
   "source": [
    "print(words)"
   ]
  },
  {
   "cell_type": "code",
   "execution_count": 5,
   "metadata": {},
   "outputs": [
    {
     "data": {
      "text/plain": [
       "[('The', 'DT'),\n",
       " ('Eiffel', 'NNP'),\n",
       " ('Tower', 'NNP'),\n",
       " ('was', 'VBD'),\n",
       " ('built', 'VBN'),\n",
       " ('from', 'IN'),\n",
       " ('1887-1889', 'JJ'),\n",
       " ('.', '.'),\n",
       " ('It', 'PRP'),\n",
       " ('was', 'VBD'),\n",
       " ('named', 'VBN'),\n",
       " ('after', 'IN'),\n",
       " ('the', 'DT'),\n",
       " ('engineer', 'NN'),\n",
       " ('Gustave', 'NNP'),\n",
       " ('Eiffel', 'NNP'),\n",
       " (',', ','),\n",
       " ('whose', 'WP$'),\n",
       " ('company', 'NN'),\n",
       " ('designed', 'VBN'),\n",
       " ('and', 'CC'),\n",
       " ('built', 'VBN'),\n",
       " ('the', 'DT'),\n",
       " ('tower', 'NN'),\n",
       " ('.', '.'),\n",
       " ('The', 'DT'),\n",
       " ('Eiffel', 'NNP'),\n",
       " ('Tower', 'NNP'),\n",
       " ('is', 'VBZ'),\n",
       " ('the', 'DT'),\n",
       " ('most-visited', 'JJ'),\n",
       " ('paid', 'NN'),\n",
       " ('monument', 'NN'),\n",
       " ('in', 'IN'),\n",
       " ('the', 'DT'),\n",
       " ('world', 'NN'),\n",
       " (';', ':'),\n",
       " ('6.91', 'CD'),\n",
       " ('million', 'CD'),\n",
       " ('people', 'NNS'),\n",
       " ('ascended', 'VBD'),\n",
       " ('it', 'PRP'),\n",
       " ('in', 'IN'),\n",
       " ('2015', 'CD'),\n",
       " ('.', '.'),\n",
       " ('The', 'DT'),\n",
       " ('tower', 'NN'),\n",
       " ('is', 'VBZ'),\n",
       " ('324', 'CD'),\n",
       " ('metres', 'NNS'),\n",
       " ('(', '('),\n",
       " ('1,063', 'CD'),\n",
       " ('ft', 'NN'),\n",
       " (')', ')'),\n",
       " ('tall', 'NN'),\n",
       " (',', ','),\n",
       " ('about', 'IN'),\n",
       " ('the', 'DT'),\n",
       " ('same', 'JJ'),\n",
       " ('height', 'NN'),\n",
       " ('as', 'IN'),\n",
       " ('an', 'DT'),\n",
       " ('81-storey', 'JJ'),\n",
       " ('building', 'NN'),\n",
       " ('.', '.'),\n",
       " ('It', 'PRP'),\n",
       " ('was', 'VBD'),\n",
       " ('the', 'DT'),\n",
       " ('tallest', 'JJS')]"
      ]
     },
     "execution_count": 5,
     "metadata": {},
     "output_type": "execute_result"
    }
   ],
   "source": [
    "nltk.pos_tag(words)"
   ]
  },
  {
   "cell_type": "code",
   "execution_count": 6,
   "metadata": {},
   "outputs": [],
   "source": [
    "# nltk.download('averaged_perceptron_tagger_eng')"
   ]
  },
  {
   "cell_type": "code",
   "execution_count": 7,
   "metadata": {},
   "outputs": [],
   "source": [
    "tag_elements = nltk.pos_tag(words)"
   ]
  },
  {
   "cell_type": "code",
   "execution_count": 8,
   "metadata": {},
   "outputs": [
    {
     "name": "stderr",
     "output_type": "stream",
     "text": [
      "[nltk_data] Downloading package maxent_ne_chunker_tab to\n",
      "[nltk_data]     /Users/satviksawhney/nltk_data...\n",
      "[nltk_data]   Package maxent_ne_chunker_tab is already up-to-date!\n",
      "[nltk_data] Downloading package words to\n",
      "[nltk_data]     /Users/satviksawhney/nltk_data...\n",
      "[nltk_data]   Package words is already up-to-date!\n"
     ]
    },
    {
     "data": {
      "text/plain": [
       "True"
      ]
     },
     "execution_count": 8,
     "metadata": {},
     "output_type": "execute_result"
    }
   ],
   "source": [
    "nltk.download('maxent_ne_chunker_tab')\n",
    "nltk.download('words')"
   ]
  },
  {
   "cell_type": "code",
   "execution_count": 9,
   "metadata": {},
   "outputs": [],
   "source": [
    "nltk.ne_chunk(tag_elements).draw()"
   ]
  }
 ],
 "metadata": {
  "kernelspec": {
   "display_name": ".venv",
   "language": "python",
   "name": "python3"
  },
  "language_info": {
   "codemirror_mode": {
    "name": "ipython",
    "version": 3
   },
   "file_extension": ".py",
   "mimetype": "text/x-python",
   "name": "python",
   "nbconvert_exporter": "python",
   "pygments_lexer": "ipython3",
   "version": "3.12.2"
  }
 },
 "nbformat": 4,
 "nbformat_minor": 2
}
