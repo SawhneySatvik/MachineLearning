{
 "cells": [
  {
   "cell_type": "code",
   "execution_count": 22,
   "metadata": {},
   "outputs": [],
   "source": [
    "corpus = \"My name is Satvik Sawhney. I am a computer science engineering student pursuing my BTech from S.R.M Institute of Science and Technology. I am twenty years old\""
   ]
  },
  {
   "cell_type": "code",
   "execution_count": 23,
   "metadata": {},
   "outputs": [
    {
     "name": "stdout",
     "output_type": "stream",
     "text": [
      "My name is Satvik Sawhney. I am a computer science engineering student pursuing my BTech from S.R.M Institute of Science and Technology. I am twenty years old\n"
     ]
    }
   ],
   "source": [
    "print(corpus)"
   ]
  },
  {
   "cell_type": "code",
   "execution_count": 24,
   "metadata": {},
   "outputs": [],
   "source": [
    "from nltk.tokenize import sent_tokenize, word_tokenize\n",
    "import nltk"
   ]
  },
  {
   "cell_type": "code",
   "execution_count": 25,
   "metadata": {},
   "outputs": [],
   "source": [
    "# nltk.download('punkt_tab')\n",
    "# nltk.download('punkt')"
   ]
  },
  {
   "cell_type": "code",
   "execution_count": 26,
   "metadata": {},
   "outputs": [
    {
     "name": "stdout",
     "output_type": "stream",
     "text": [
      "['My name is Satvik Sawhney.', 'I am a computer science engineering student pursuing my BTech from S.R.M Institute of Science and Technology.', 'I am twenty years old']\n"
     ]
    }
   ],
   "source": [
    "document = sent_tokenize(corpus)\n",
    "print(document)"
   ]
  },
  {
   "cell_type": "code",
   "execution_count": 27,
   "metadata": {},
   "outputs": [
    {
     "name": "stdout",
     "output_type": "stream",
     "text": [
      "['My', 'name', 'is', 'Satvik', 'Sawhney', '.', 'I', 'am', 'a', 'computer', 'science', 'engineering', 'student', 'pursuing', 'my', 'BTech', 'from', 'S.R.M', 'Institute', 'of', 'Science', 'and', 'Technology', '.', 'I', 'am', 'twenty', 'years', 'old']\n"
     ]
    }
   ],
   "source": [
    "words = word_tokenize(corpus)\n",
    "print(words)"
   ]
  },
  {
   "cell_type": "code",
   "execution_count": 28,
   "metadata": {},
   "outputs": [
    {
     "name": "stdout",
     "output_type": "stream",
     "text": [
      "My name is Satvik Sawhney.\n",
      "I am a computer science engineering student pursuing my BTech from S.R.M Institute of Science and Technology.\n",
      "I am twenty years old\n"
     ]
    }
   ],
   "source": [
    "for sentence in document:\n",
    "    print(sentence)"
   ]
  },
  {
   "cell_type": "code",
   "execution_count": 29,
   "metadata": {},
   "outputs": [
    {
     "name": "stdout",
     "output_type": "stream",
     "text": [
      "Sentence :  My name is Satvik Sawhney.\n",
      "Words:  ['My', 'name', 'is', 'Satvik', 'Sawhney', '.']\n",
      "Sentence :  I am a computer science engineering student pursuing my BTech from S.R.M Institute of Science and Technology.\n",
      "Words:  ['I', 'am', 'a', 'computer', 'science', 'engineering', 'student', 'pursuing', 'my', 'BTech', 'from', 'S.R.M', 'Institute', 'of', 'Science', 'and', 'Technology', '.']\n",
      "Sentence :  I am twenty years old\n",
      "Words:  ['I', 'am', 'twenty', 'years', 'old']\n"
     ]
    }
   ],
   "source": [
    "for sentence in document:\n",
    "    print(\"Sentence : \", sentence)\n",
    "    words = word_tokenize(sentence)\n",
    "    print(\"Words: \",words)"
   ]
  },
  {
   "cell_type": "code",
   "execution_count": 41,
   "metadata": {},
   "outputs": [],
   "source": [
    "from nltk.tokenize import TreebankWordTokenizer\n",
    "# Tokenise each word and includes punctuation within the word and not as a seperate entity"
   ]
  },
  {
   "cell_type": "code",
   "execution_count": 42,
   "metadata": {},
   "outputs": [],
   "source": [
    "tokeniser = TreebankWordTokenizer()"
   ]
  },
  {
   "cell_type": "code",
   "execution_count": 44,
   "metadata": {},
   "outputs": [
    {
     "name": "stdout",
     "output_type": "stream",
     "text": [
      "['My', 'name', 'is', 'Satvik', 'Sawhney.', 'I', 'am', 'a', 'computer', 'science', 'engineering', 'student', 'pursuing', 'my', 'BTech', 'from', 'S.R.M', 'Institute', 'of', 'Science', 'and', 'Technology.', 'I', 'am', 'twenty', 'years', 'old']\n"
     ]
    }
   ],
   "source": [
    "print(tokeniser.tokenize(corpus))"
   ]
  }
 ],
 "metadata": {
  "kernelspec": {
   "display_name": ".venv",
   "language": "python",
   "name": "python3"
  },
  "language_info": {
   "codemirror_mode": {
    "name": "ipython",
    "version": 3
   },
   "file_extension": ".py",
   "mimetype": "text/x-python",
   "name": "python",
   "nbconvert_exporter": "python",
   "pygments_lexer": "ipython3",
   "version": "3.12.2"
  }
 },
 "nbformat": 4,
 "nbformat_minor": 2
}
